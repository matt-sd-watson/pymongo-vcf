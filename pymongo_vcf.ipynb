{
 "cells": [
  {
   "cell_type": "code",
   "execution_count": 27,
   "metadata": {},
   "outputs": [],
   "source": [
    "import pysam as ps\n",
    "import pymongo"
   ]
  },
  {
   "cell_type": "code",
   "execution_count": 30,
   "metadata": {},
   "outputs": [],
   "source": [
    "client = pymongo.MongoClient(\"localhost\", 27017)\n",
    "db = client.hospital\n",
    "mongo_variants = db.variants\n",
    "mongo_variants.drop()"
   ]
  },
  {
   "cell_type": "code",
   "execution_count": 173,
   "metadata": {},
   "outputs": [],
   "source": [
    "file = \"/Users/mattsdwatson/Documents/KU Leuven/Courses/Semester 2\" \\\n",
    "       \" 2020/Management of Large-Scale Omics Data/Practical/Practical_3/chr1.vcf.gz\"\n",
    "data = ps.VariantFile(file)"
   ]
  },
  {
   "cell_type": "code",
   "execution_count": 32,
   "metadata": {},
   "outputs": [],
   "source": [
    "def filter_variants(vcf):\n",
    "    list = []\n",
    "    for i, record in enumerate(vcf):\n",
    "        for sample_id, val in record.samples.items():\n",
    "            genotype = val[\"GT\"]\n",
    "            if genotype != (0, 0) and sample_id is not None:\n",
    "                list.append({sample_id: genotype, \"chr\": record.chrom, \"pos\": record.pos, \n",
    "                             \"ref\": record.ref, \"alt\": record.alts})\n",
    "    return list"
   ]
  },
  {
   "cell_type": "code",
   "execution_count": 33,
   "metadata": {},
   "outputs": [],
   "source": [
    "def into_mongodb(collection, file, num_records=1000000):\n",
    "    data = ps.VariantFile(file)\n",
    "    filtered = filter_variants(data)[:num_records]\n",
    "    collection.insert_many(filtered)\n",
    "    "
   ]
  },
  {
   "cell_type": "code",
   "execution_count": 34,
   "metadata": {},
   "outputs": [],
   "source": [
    "into_mongodb(mongo_variants, file)"
   ]
  },
  {
   "cell_type": "code",
   "execution_count": 35,
   "metadata": {},
   "outputs": [
    {
     "name": "stdout",
     "output_type": "stream",
     "text": [
      "1000000\n"
     ]
    }
   ],
   "source": [
    "print(mongo_variants.count_documents({}))"
   ]
  },
  {
   "cell_type": "code",
   "execution_count": 36,
   "metadata": {},
   "outputs": [
    {
     "name": "stdout",
     "output_type": "stream",
     "text": [
      "{'_id': ObjectId('5ed6b572bdf4b3fb76a3666e'), 'HG00096': [1, 0], 'chr': '1', 'pos': 10000400, 'ref': 'T', 'alt': ['A']}\n"
     ]
    }
   ],
   "source": [
    "print(mongo_variants.find_one({\"pos\": {\"$gt\": 10_000_000}}))"
   ]
  },
  {
   "cell_type": "code",
   "execution_count": 37,
   "metadata": {},
   "outputs": [],
   "source": [
    "def get_variants(collection, chrom, position, genotype=None):\n",
    "    \"\"\"Implement a function that returns all info on variants at `chrom` and `pos`.\n",
    "    Args:\n",
    "        collection    MongoDB collection\n",
    "        chrom         chromosome\n",
    "        pos           position\n",
    "        genotype      pair like (1, 0) or (1, 1). If None all are returned\n",
    "    \"\"\"\n",
    "    if genotype is not None:\n",
    "        genotypes = [genotype, genotype[::-1]]\n",
    "        for x in collection.find({\"$and\": [{\"pos\": {'$eq': position}}, {\"chr\": {'$eq': chrom}}, {\"genotype\": {'$in': genotypes}}]}):\n",
    "            print(x)\n",
    "    else:\n",
    "        for x in collection.find({\"$and\": [{\"pos\": {'$eq': position}}, {\"chr\": {'$eq': chrom}}]}):\n",
    "            print(x)"
   ]
  },
  {
   "cell_type": "code",
   "execution_count": 38,
   "metadata": {},
   "outputs": [
    {
     "name": "stdout",
     "output_type": "stream",
     "text": [
      "{'_id': ObjectId('5ed6b572bdf4b3fb76a3666e'), 'HG00096': [1, 0], 'chr': '1', 'pos': 10000400, 'ref': 'T', 'alt': ['A']}\n",
      "{'_id': ObjectId('5ed6b572bdf4b3fb76a3666f'), 'HG00099': [1, 1], 'chr': '1', 'pos': 10000400, 'ref': 'T', 'alt': ['A']}\n",
      "{'_id': ObjectId('5ed6b572bdf4b3fb76a36670'), 'HG00100': [1, 1], 'chr': '1', 'pos': 10000400, 'ref': 'T', 'alt': ['A']}\n",
      "{'_id': ObjectId('5ed6b572bdf4b3fb76a36671'), 'HG00101': [1, 1], 'chr': '1', 'pos': 10000400, 'ref': 'T', 'alt': ['A']}\n",
      "{'_id': ObjectId('5ed6b572bdf4b3fb76a36672'), 'HG00102': [1, 1], 'chr': '1', 'pos': 10000400, 'ref': 'T', 'alt': ['A']}\n",
      "{'_id': ObjectId('5ed6b572bdf4b3fb76a36673'), 'HG00103': [0, 1], 'chr': '1', 'pos': 10000400, 'ref': 'T', 'alt': ['A']}\n",
      "{'_id': ObjectId('5ed6b572bdf4b3fb76a36674'), 'HG00105': [1, 1], 'chr': '1', 'pos': 10000400, 'ref': 'T', 'alt': ['A']}\n",
      "{'_id': ObjectId('5ed6b572bdf4b3fb76a36675'), 'HG00106': [1, 1], 'chr': '1', 'pos': 10000400, 'ref': 'T', 'alt': ['A']}\n",
      "{'_id': ObjectId('5ed6b572bdf4b3fb76a36676'), 'HG00107': [1, 1], 'chr': '1', 'pos': 10000400, 'ref': 'T', 'alt': ['A']}\n"
     ]
    }
   ],
   "source": [
    "get_variants(mongo_variants, chrom=\"1\", position=10000400)"
   ]
  },
  {
   "cell_type": "code",
   "execution_count": 39,
   "metadata": {},
   "outputs": [],
   "source": [
    "# this query does not return any records at the position, as expected\n",
    "get_variants(mongo_variants, chrom=\"1\", position=10000300)"
   ]
  },
  {
   "cell_type": "code",
   "execution_count": 40,
   "metadata": {},
   "outputs": [],
   "source": [
    "def get_variants_in_range(collection, chrom, start, end):\n",
    "    \"\"\"Returns list of variant informations at `chrom` and from position `start` to `end`.\n",
    "    Args:\n",
    "        collection    MongoDB collection\n",
    "        chrom         chromosome\n",
    "        start         starting position (inclusive)\n",
    "        end           end position (inclusive)\n",
    "    \"\"\"\n",
    "    for x in collection.find({\"$and\": [{\"pos\": {\"$gte\": start, \"$lte\": end}}, {\"chr\": {'$eq': chrom}}]}):\n",
    "        print(x)"
   ]
  },
  {
   "cell_type": "code",
   "execution_count": 41,
   "metadata": {},
   "outputs": [
    {
     "name": "stdout",
     "output_type": "stream",
     "text": [
      "{'_id': ObjectId('5ed6b572bdf4b3fb76a3666e'), 'HG00096': [1, 0], 'chr': '1', 'pos': 10000400, 'ref': 'T', 'alt': ['A']}\n",
      "{'_id': ObjectId('5ed6b572bdf4b3fb76a3666f'), 'HG00099': [1, 1], 'chr': '1', 'pos': 10000400, 'ref': 'T', 'alt': ['A']}\n",
      "{'_id': ObjectId('5ed6b572bdf4b3fb76a36670'), 'HG00100': [1, 1], 'chr': '1', 'pos': 10000400, 'ref': 'T', 'alt': ['A']}\n",
      "{'_id': ObjectId('5ed6b572bdf4b3fb76a36671'), 'HG00101': [1, 1], 'chr': '1', 'pos': 10000400, 'ref': 'T', 'alt': ['A']}\n",
      "{'_id': ObjectId('5ed6b572bdf4b3fb76a36672'), 'HG00102': [1, 1], 'chr': '1', 'pos': 10000400, 'ref': 'T', 'alt': ['A']}\n",
      "{'_id': ObjectId('5ed6b572bdf4b3fb76a36673'), 'HG00103': [0, 1], 'chr': '1', 'pos': 10000400, 'ref': 'T', 'alt': ['A']}\n",
      "{'_id': ObjectId('5ed6b572bdf4b3fb76a36674'), 'HG00105': [1, 1], 'chr': '1', 'pos': 10000400, 'ref': 'T', 'alt': ['A']}\n",
      "{'_id': ObjectId('5ed6b572bdf4b3fb76a36675'), 'HG00106': [1, 1], 'chr': '1', 'pos': 10000400, 'ref': 'T', 'alt': ['A']}\n",
      "{'_id': ObjectId('5ed6b572bdf4b3fb76a36676'), 'HG00107': [1, 1], 'chr': '1', 'pos': 10000400, 'ref': 'T', 'alt': ['A']}\n",
      "{'_id': ObjectId('5ed6b572bdf4b3fb76a36677'), 'HG00099': [0, 1], 'chr': '1', 'pos': 10000804, 'ref': 'T', 'alt': ['C']}\n",
      "{'_id': ObjectId('5ed6b572bdf4b3fb76a36678'), 'HG00096': [1, 0], 'chr': '1', 'pos': 10001235, 'ref': 'TTTCG', 'alt': ['T']}\n",
      "{'_id': ObjectId('5ed6b572bdf4b3fb76a36679'), 'HG00099': [0, 1], 'chr': '1', 'pos': 10001235, 'ref': 'TTTCG', 'alt': ['T']}\n",
      "{'_id': ObjectId('5ed6b572bdf4b3fb76a3667a'), 'HG00100': [1, 1], 'chr': '1', 'pos': 10001235, 'ref': 'TTTCG', 'alt': ['T']}\n",
      "{'_id': ObjectId('5ed6b572bdf4b3fb76a3667b'), 'HG00101': [0, 1], 'chr': '1', 'pos': 10001235, 'ref': 'TTTCG', 'alt': ['T']}\n",
      "{'_id': ObjectId('5ed6b572bdf4b3fb76a3667c'), 'HG00102': [1, 1], 'chr': '1', 'pos': 10001235, 'ref': 'TTTCG', 'alt': ['T']}\n",
      "{'_id': ObjectId('5ed6b572bdf4b3fb76a3667d'), 'HG00103': [0, 1], 'chr': '1', 'pos': 10001235, 'ref': 'TTTCG', 'alt': ['T']}\n",
      "{'_id': ObjectId('5ed6b572bdf4b3fb76a3667e'), 'HG00105': [0, 1], 'chr': '1', 'pos': 10001235, 'ref': 'TTTCG', 'alt': ['T']}\n",
      "{'_id': ObjectId('5ed6b572bdf4b3fb76a3667f'), 'HG00106': [1, 0], 'chr': '1', 'pos': 10001235, 'ref': 'TTTCG', 'alt': ['T']}\n",
      "{'_id': ObjectId('5ed6b572bdf4b3fb76a36680'), 'HG00107': [0, 1], 'chr': '1', 'pos': 10001235, 'ref': 'TTTCG', 'alt': ['T']}\n",
      "{'_id': ObjectId('5ed6b572bdf4b3fb76a36681'), 'HG00101': [1, 0], 'chr': '1', 'pos': 10001401, 'ref': 'C', 'alt': ['T']}\n",
      "{'_id': ObjectId('5ed6b572bdf4b3fb76a36682'), 'HG00107': [1, 0], 'chr': '1', 'pos': 10001401, 'ref': 'C', 'alt': ['T']}\n",
      "{'_id': ObjectId('5ed6b572bdf4b3fb76a36683'), 'HG00101': [0, 1], 'chr': '1', 'pos': 10001979, 'ref': 'T', 'alt': ['A']}\n",
      "{'_id': ObjectId('5ed6b572bdf4b3fb76a36684'), 'HG00096': [1, 0], 'chr': '1', 'pos': 10001980, 'ref': 'T', 'alt': ['A']}\n",
      "{'_id': ObjectId('5ed6b572bdf4b3fb76a36685'), 'HG00099': [0, 1], 'chr': '1', 'pos': 10001980, 'ref': 'T', 'alt': ['A']}\n",
      "{'_id': ObjectId('5ed6b572bdf4b3fb76a36686'), 'HG00100': [1, 1], 'chr': '1', 'pos': 10001980, 'ref': 'T', 'alt': ['A']}\n",
      "{'_id': ObjectId('5ed6b572bdf4b3fb76a36687'), 'HG00101': [0, 1], 'chr': '1', 'pos': 10001980, 'ref': 'T', 'alt': ['A']}\n",
      "{'_id': ObjectId('5ed6b572bdf4b3fb76a36688'), 'HG00102': [1, 1], 'chr': '1', 'pos': 10001980, 'ref': 'T', 'alt': ['A']}\n",
      "{'_id': ObjectId('5ed6b572bdf4b3fb76a36689'), 'HG00103': [0, 1], 'chr': '1', 'pos': 10001980, 'ref': 'T', 'alt': ['A']}\n",
      "{'_id': ObjectId('5ed6b572bdf4b3fb76a3668a'), 'HG00105': [0, 1], 'chr': '1', 'pos': 10001980, 'ref': 'T', 'alt': ['A']}\n",
      "{'_id': ObjectId('5ed6b572bdf4b3fb76a3668b'), 'HG00106': [1, 0], 'chr': '1', 'pos': 10001980, 'ref': 'T', 'alt': ['A']}\n",
      "{'_id': ObjectId('5ed6b572bdf4b3fb76a3668c'), 'HG00107': [0, 1], 'chr': '1', 'pos': 10001980, 'ref': 'T', 'alt': ['A']}\n",
      "{'_id': ObjectId('5ed6b572bdf4b3fb76a3668d'), 'HG00096': [1, 0], 'chr': '1', 'pos': 10002921, 'ref': 'T', 'alt': ['G']}\n"
     ]
    }
   ],
   "source": [
    "get_variants_in_range(mongo_variants, chrom='1', start=10_000_000, end=10_003_000)"
   ]
  },
  {
   "cell_type": "code",
   "execution_count": 42,
   "metadata": {},
   "outputs": [
    {
     "name": "stdout",
     "output_type": "stream",
     "text": [
      "{'_id_': {'v': 2, 'key': [('_id', 1)], 'ns': 'hospital.variants'}, 'chr_1': {'v': 2, 'key': [('chr', 1)], 'ns': 'hospital.variants'}, 'pos_1': {'v': 2, 'key': [('pos', 1)], 'ns': 'hospital.variants'}}\n"
     ]
    }
   ],
   "source": [
    "db.variants.create_index([(\"chr\", pymongo.ASCENDING)])\n",
    "db.variants.create_index([(\"pos\", pymongo.ASCENDING)])\n",
    "print(db.variants.index_information())"
   ]
  },
  {
   "cell_type": "code",
   "execution_count": 43,
   "metadata": {},
   "outputs": [
    {
     "name": "stdout",
     "output_type": "stream",
     "text": [
      "{'_id': ObjectId('5ed6b572bdf4b3fb76a3666e'), 'HG00096': [1, 0], 'chr': '1', 'pos': 10000400, 'ref': 'T', 'alt': ['A']}\n",
      "{'_id': ObjectId('5ed6b572bdf4b3fb76a3666f'), 'HG00099': [1, 1], 'chr': '1', 'pos': 10000400, 'ref': 'T', 'alt': ['A']}\n",
      "{'_id': ObjectId('5ed6b572bdf4b3fb76a36670'), 'HG00100': [1, 1], 'chr': '1', 'pos': 10000400, 'ref': 'T', 'alt': ['A']}\n",
      "{'_id': ObjectId('5ed6b572bdf4b3fb76a36671'), 'HG00101': [1, 1], 'chr': '1', 'pos': 10000400, 'ref': 'T', 'alt': ['A']}\n",
      "{'_id': ObjectId('5ed6b572bdf4b3fb76a36672'), 'HG00102': [1, 1], 'chr': '1', 'pos': 10000400, 'ref': 'T', 'alt': ['A']}\n",
      "{'_id': ObjectId('5ed6b572bdf4b3fb76a36673'), 'HG00103': [0, 1], 'chr': '1', 'pos': 10000400, 'ref': 'T', 'alt': ['A']}\n",
      "{'_id': ObjectId('5ed6b572bdf4b3fb76a36674'), 'HG00105': [1, 1], 'chr': '1', 'pos': 10000400, 'ref': 'T', 'alt': ['A']}\n",
      "{'_id': ObjectId('5ed6b572bdf4b3fb76a36675'), 'HG00106': [1, 1], 'chr': '1', 'pos': 10000400, 'ref': 'T', 'alt': ['A']}\n",
      "{'_id': ObjectId('5ed6b572bdf4b3fb76a36676'), 'HG00107': [1, 1], 'chr': '1', 'pos': 10000400, 'ref': 'T', 'alt': ['A']}\n",
      "{'_id': ObjectId('5ed6b572bdf4b3fb76a36677'), 'HG00099': [0, 1], 'chr': '1', 'pos': 10000804, 'ref': 'T', 'alt': ['C']}\n",
      "{'_id': ObjectId('5ed6b572bdf4b3fb76a36678'), 'HG00096': [1, 0], 'chr': '1', 'pos': 10001235, 'ref': 'TTTCG', 'alt': ['T']}\n",
      "{'_id': ObjectId('5ed6b572bdf4b3fb76a36679'), 'HG00099': [0, 1], 'chr': '1', 'pos': 10001235, 'ref': 'TTTCG', 'alt': ['T']}\n",
      "{'_id': ObjectId('5ed6b572bdf4b3fb76a3667a'), 'HG00100': [1, 1], 'chr': '1', 'pos': 10001235, 'ref': 'TTTCG', 'alt': ['T']}\n",
      "{'_id': ObjectId('5ed6b572bdf4b3fb76a3667b'), 'HG00101': [0, 1], 'chr': '1', 'pos': 10001235, 'ref': 'TTTCG', 'alt': ['T']}\n",
      "{'_id': ObjectId('5ed6b572bdf4b3fb76a3667c'), 'HG00102': [1, 1], 'chr': '1', 'pos': 10001235, 'ref': 'TTTCG', 'alt': ['T']}\n",
      "{'_id': ObjectId('5ed6b572bdf4b3fb76a3667d'), 'HG00103': [0, 1], 'chr': '1', 'pos': 10001235, 'ref': 'TTTCG', 'alt': ['T']}\n",
      "{'_id': ObjectId('5ed6b572bdf4b3fb76a3667e'), 'HG00105': [0, 1], 'chr': '1', 'pos': 10001235, 'ref': 'TTTCG', 'alt': ['T']}\n",
      "{'_id': ObjectId('5ed6b572bdf4b3fb76a3667f'), 'HG00106': [1, 0], 'chr': '1', 'pos': 10001235, 'ref': 'TTTCG', 'alt': ['T']}\n",
      "{'_id': ObjectId('5ed6b572bdf4b3fb76a36680'), 'HG00107': [0, 1], 'chr': '1', 'pos': 10001235, 'ref': 'TTTCG', 'alt': ['T']}\n",
      "{'_id': ObjectId('5ed6b572bdf4b3fb76a36681'), 'HG00101': [1, 0], 'chr': '1', 'pos': 10001401, 'ref': 'C', 'alt': ['T']}\n",
      "{'_id': ObjectId('5ed6b572bdf4b3fb76a36682'), 'HG00107': [1, 0], 'chr': '1', 'pos': 10001401, 'ref': 'C', 'alt': ['T']}\n",
      "{'_id': ObjectId('5ed6b572bdf4b3fb76a36683'), 'HG00101': [0, 1], 'chr': '1', 'pos': 10001979, 'ref': 'T', 'alt': ['A']}\n",
      "{'_id': ObjectId('5ed6b572bdf4b3fb76a36684'), 'HG00096': [1, 0], 'chr': '1', 'pos': 10001980, 'ref': 'T', 'alt': ['A']}\n",
      "{'_id': ObjectId('5ed6b572bdf4b3fb76a36685'), 'HG00099': [0, 1], 'chr': '1', 'pos': 10001980, 'ref': 'T', 'alt': ['A']}\n",
      "{'_id': ObjectId('5ed6b572bdf4b3fb76a36686'), 'HG00100': [1, 1], 'chr': '1', 'pos': 10001980, 'ref': 'T', 'alt': ['A']}\n",
      "{'_id': ObjectId('5ed6b572bdf4b3fb76a36687'), 'HG00101': [0, 1], 'chr': '1', 'pos': 10001980, 'ref': 'T', 'alt': ['A']}\n",
      "{'_id': ObjectId('5ed6b572bdf4b3fb76a36688'), 'HG00102': [1, 1], 'chr': '1', 'pos': 10001980, 'ref': 'T', 'alt': ['A']}\n",
      "{'_id': ObjectId('5ed6b572bdf4b3fb76a36689'), 'HG00103': [0, 1], 'chr': '1', 'pos': 10001980, 'ref': 'T', 'alt': ['A']}\n",
      "{'_id': ObjectId('5ed6b572bdf4b3fb76a3668a'), 'HG00105': [0, 1], 'chr': '1', 'pos': 10001980, 'ref': 'T', 'alt': ['A']}\n",
      "{'_id': ObjectId('5ed6b572bdf4b3fb76a3668b'), 'HG00106': [1, 0], 'chr': '1', 'pos': 10001980, 'ref': 'T', 'alt': ['A']}\n",
      "{'_id': ObjectId('5ed6b572bdf4b3fb76a3668c'), 'HG00107': [0, 1], 'chr': '1', 'pos': 10001980, 'ref': 'T', 'alt': ['A']}\n",
      "{'_id': ObjectId('5ed6b572bdf4b3fb76a3668d'), 'HG00096': [1, 0], 'chr': '1', 'pos': 10002921, 'ref': 'T', 'alt': ['G']}\n",
      "CPU times: user 2.39 ms, sys: 1.81 ms, total: 4.2 ms\n",
      "Wall time: 9.71 ms\n"
     ]
    }
   ],
   "source": [
    "%time var10m = get_variants_in_range(mongo_variants, chrom='1', start=10_000_000, end=10_003_000)"
   ]
  },
  {
   "cell_type": "code",
   "execution_count": 174,
   "metadata": {},
   "outputs": [
    {
     "name": "stdout",
     "output_type": "stream",
     "text": [
      "Total unique references: 17150\n"
     ]
    }
   ],
   "source": [
    "# we want to see how many unique reference positions there are in the vcf file\n",
    "references = []\n",
    "for record in data: \n",
    "   if record.ref not in references: \n",
    "    references.append(record.ref)\n",
    "    \n",
    "print(\"Total unique references: {}\".format(len(references)))"
   ]
  },
  {
   "cell_type": "code",
   "execution_count": 175,
   "metadata": {},
   "outputs": [],
   "source": [
    "# see how many different alternate variants there are for an input of reference positions\n",
    "# that have been added to the database\n",
    "def print_variant_numbers(database, reference): \n",
    "    for i in list(reference): \n",
    "        dict = database.aggregate([{'$match':   \n",
    "          {'ref': i}}, \n",
    "          {'$group': {'_id': \"$alt\"}},\n",
    "          {'$count': 'Unique Variants for reference {}'.format(i)}])\n",
    "        print(list(dict))"
   ]
  },
  {
   "cell_type": "code",
   "execution_count": 176,
   "metadata": {},
   "outputs": [
    {
     "name": "stdout",
     "output_type": "stream",
     "text": [
      "[{'Unique Variants for reference A': 531}]\n",
      "[{'Unique Variants for reference T': 524}]\n",
      "[{'Unique Variants for reference C': 529}]\n",
      "[{'Unique Variants for reference G': 451}]\n",
      "[{'Unique Variants for reference AAT': 2}]\n"
     ]
    }
   ],
   "source": [
    "# we can see the output for the 4 nucleotides/canonical reference positions, plus a different reference\n",
    "nucleotides = [\"A\", \"T\", \"C\", \"G\", \"AAT\"]\n",
    "print_variant_numbers(db.variants, reference = nucleotides)"
   ]
  }
 ],
 "metadata": {
  "kernelspec": {
   "display_name": "Python 3",
   "language": "python",
   "name": "python3"
  },
  "language_info": {
   "codemirror_mode": {
    "name": "ipython",
    "version": 3
   },
   "file_extension": ".py",
   "mimetype": "text/x-python",
   "name": "python",
   "nbconvert_exporter": "python",
   "pygments_lexer": "ipython3",
   "version": "3.7.3"
  }
 },
 "nbformat": 4,
 "nbformat_minor": 4
}
