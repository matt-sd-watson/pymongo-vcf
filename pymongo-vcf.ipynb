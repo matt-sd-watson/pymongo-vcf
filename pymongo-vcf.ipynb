{
 "cells": [
  {
   "cell_type": "code",
   "execution_count": 13,
   "metadata": {},
   "outputs": [],
   "source": [
    "import pysam as ps\n",
    "import pymongo"
   ]
  },
  {
   "cell_type": "code",
   "execution_count": 14,
   "metadata": {},
   "outputs": [],
   "source": [
    "client = pymongo.MongoClient(\"localhost\", 27017)\n",
    "db = client.hospital\n",
    "mongo_variants = db.variants\n",
    "mongo_variants.drop()"
   ]
  },
  {
   "cell_type": "code",
   "execution_count": 15,
   "metadata": {},
   "outputs": [],
   "source": [
    "file = \"/Users/mattsdwatson/Documents/KU Leuven/Courses/Semester 2\" \\\n",
    "       \" 2020/Management of Large-Scale Omics Data/Practical/Practical_3/chr1.vcf.gz\"\n",
    "data = ps.VariantFile(file)"
   ]
  },
  {
   "cell_type": "code",
   "execution_count": 16,
   "metadata": {},
   "outputs": [],
   "source": [
    "def filter_variants(vcf):\n",
    "    list = []\n",
    "    for i, record in enumerate(vcf):\n",
    "        for sample_id, val in record.samples.items():\n",
    "            genotype = val[\"GT\"]\n",
    "            if genotype != (0, 0) and sample_id is not None:\n",
    "                list.append({sample_id: genotype, \"chr\": record.chrom, \"pos\": record.pos, \n",
    "                             \"ref\": record.ref, \"alt\": record.alts})\n",
    "    return list"
   ]
  },
  {
   "cell_type": "code",
   "execution_count": 17,
   "metadata": {},
   "outputs": [],
   "source": [
    "def into_mongodb(collection, file, num_records=1000000):\n",
    "    data = ps.VariantFile(file)\n",
    "    filtered = filter_variants(data)[:num_records]\n",
    "    collection.insert_many(filtered)\n",
    "    "
   ]
  },
  {
   "cell_type": "code",
   "execution_count": 18,
   "metadata": {},
   "outputs": [],
   "source": [
    "into_mongodb(mongo_variants, file)"
   ]
  },
  {
   "cell_type": "code",
   "execution_count": 19,
   "metadata": {},
   "outputs": [
    {
     "name": "stdout",
     "output_type": "stream",
     "text": [
      "1000000\n"
     ]
    }
   ],
   "source": [
    "print(mongo_variants.count_documents({}))"
   ]
  },
  {
   "cell_type": "code",
   "execution_count": 20,
   "metadata": {},
   "outputs": [
    {
     "name": "stdout",
     "output_type": "stream",
     "text": [
      "{'_id': ObjectId('5ebc6afb7fc0758414ad94c1'), 'HG00096': [1, 0], 'chr': '1', 'pos': 10000400, 'ref': 'T', 'alt': ['A']}\n"
     ]
    }
   ],
   "source": [
    "print(mongo_variants.find_one({\"pos\": {\"$gt\": 10_000_000}}))"
   ]
  },
  {
   "cell_type": "code",
   "execution_count": 21,
   "metadata": {},
   "outputs": [],
   "source": [
    "def get_variants(collection, chrom, position, genotype=None):\n",
    "    \"\"\"Implement a function that returns all info on variants at `chrom` and `pos`.\n",
    "    Args:\n",
    "        collection    MongoDB collection\n",
    "        chrom         chromosome\n",
    "        pos           position\n",
    "        genotype      pair like (1, 0) or (1, 1). If None all are returned\n",
    "    \"\"\"\n",
    "    if genotype is not None:\n",
    "        genotypes = [genotype, genotype[::-1]]\n",
    "        for x in collection.find({\"$and\": [{\"pos\": {'$eq': position}}, {\"chr\": {'$eq': chrom}}, {\"genotype\": {'$in': genotypes}}]}):\n",
    "            print(x)\n",
    "    else:\n",
    "        for x in collection.find({\"$and\": [{\"pos\": {'$eq': position}}, {\"chr\": {'$eq': chrom}}]}):\n",
    "            print(x)"
   ]
  },
  {
   "cell_type": "code",
   "execution_count": 23,
   "metadata": {},
   "outputs": [
    {
     "name": "stdout",
     "output_type": "stream",
     "text": [
      "{'_id': ObjectId('5ebc6afb7fc0758414ad94c1'), 'HG00096': [1, 0], 'chr': '1', 'pos': 10000400, 'ref': 'T', 'alt': ['A']}\n",
      "{'_id': ObjectId('5ebc6afb7fc0758414ad94c2'), 'HG00099': [1, 1], 'chr': '1', 'pos': 10000400, 'ref': 'T', 'alt': ['A']}\n",
      "{'_id': ObjectId('5ebc6afb7fc0758414ad94c3'), 'HG00100': [1, 1], 'chr': '1', 'pos': 10000400, 'ref': 'T', 'alt': ['A']}\n",
      "{'_id': ObjectId('5ebc6afb7fc0758414ad94c4'), 'HG00101': [1, 1], 'chr': '1', 'pos': 10000400, 'ref': 'T', 'alt': ['A']}\n",
      "{'_id': ObjectId('5ebc6afb7fc0758414ad94c5'), 'HG00102': [1, 1], 'chr': '1', 'pos': 10000400, 'ref': 'T', 'alt': ['A']}\n",
      "{'_id': ObjectId('5ebc6afb7fc0758414ad94c6'), 'HG00103': [0, 1], 'chr': '1', 'pos': 10000400, 'ref': 'T', 'alt': ['A']}\n",
      "{'_id': ObjectId('5ebc6afb7fc0758414ad94c7'), 'HG00105': [1, 1], 'chr': '1', 'pos': 10000400, 'ref': 'T', 'alt': ['A']}\n",
      "{'_id': ObjectId('5ebc6afb7fc0758414ad94c8'), 'HG00106': [1, 1], 'chr': '1', 'pos': 10000400, 'ref': 'T', 'alt': ['A']}\n",
      "{'_id': ObjectId('5ebc6afb7fc0758414ad94c9'), 'HG00107': [1, 1], 'chr': '1', 'pos': 10000400, 'ref': 'T', 'alt': ['A']}\n"
     ]
    }
   ],
   "source": [
    "get_variants(mongo_variants, chrom=\"1\", position=10000400)"
   ]
  },
  {
   "cell_type": "code",
   "execution_count": 24,
   "metadata": {},
   "outputs": [],
   "source": [
    "# this query does not return any records at the position, as expected\n",
    "get_variants(mongo_variants, chrom=\"1\", position=10000300)"
   ]
  },
  {
   "cell_type": "code",
   "execution_count": 25,
   "metadata": {},
   "outputs": [],
   "source": [
    "def get_variants_in_range(collection, chrom, start, end):\n",
    "    \"\"\"Returns list of variant informations at `chrom` and from position `start` to `end`.\n",
    "    Args:\n",
    "        collection    MongoDB collection\n",
    "        chrom         chromosome\n",
    "        start         starting position (inclusive)\n",
    "        end           end position (inclusive)\n",
    "    \"\"\"\n",
    "    for x in collection.find({\"$and\": [{\"pos\": {\"$gte\": start, \"$lte\": end}}, {\"chr\": {'$eq': chrom}}]}):\n",
    "        print(x)"
   ]
  },
  {
   "cell_type": "code",
   "execution_count": 26,
   "metadata": {},
   "outputs": [
    {
     "name": "stdout",
     "output_type": "stream",
     "text": [
      "{'_id': ObjectId('5ebc6afb7fc0758414ad94c1'), 'HG00096': [1, 0], 'chr': '1', 'pos': 10000400, 'ref': 'T', 'alt': ['A']}\n",
      "{'_id': ObjectId('5ebc6afb7fc0758414ad94c2'), 'HG00099': [1, 1], 'chr': '1', 'pos': 10000400, 'ref': 'T', 'alt': ['A']}\n",
      "{'_id': ObjectId('5ebc6afb7fc0758414ad94c3'), 'HG00100': [1, 1], 'chr': '1', 'pos': 10000400, 'ref': 'T', 'alt': ['A']}\n",
      "{'_id': ObjectId('5ebc6afb7fc0758414ad94c4'), 'HG00101': [1, 1], 'chr': '1', 'pos': 10000400, 'ref': 'T', 'alt': ['A']}\n",
      "{'_id': ObjectId('5ebc6afb7fc0758414ad94c5'), 'HG00102': [1, 1], 'chr': '1', 'pos': 10000400, 'ref': 'T', 'alt': ['A']}\n",
      "{'_id': ObjectId('5ebc6afb7fc0758414ad94c6'), 'HG00103': [0, 1], 'chr': '1', 'pos': 10000400, 'ref': 'T', 'alt': ['A']}\n",
      "{'_id': ObjectId('5ebc6afb7fc0758414ad94c7'), 'HG00105': [1, 1], 'chr': '1', 'pos': 10000400, 'ref': 'T', 'alt': ['A']}\n",
      "{'_id': ObjectId('5ebc6afb7fc0758414ad94c8'), 'HG00106': [1, 1], 'chr': '1', 'pos': 10000400, 'ref': 'T', 'alt': ['A']}\n",
      "{'_id': ObjectId('5ebc6afb7fc0758414ad94c9'), 'HG00107': [1, 1], 'chr': '1', 'pos': 10000400, 'ref': 'T', 'alt': ['A']}\n",
      "{'_id': ObjectId('5ebc6afb7fc0758414ad94ca'), 'HG00099': [0, 1], 'chr': '1', 'pos': 10000804, 'ref': 'T', 'alt': ['C']}\n",
      "{'_id': ObjectId('5ebc6afb7fc0758414ad94cb'), 'HG00096': [1, 0], 'chr': '1', 'pos': 10001235, 'ref': 'TTTCG', 'alt': ['T']}\n",
      "{'_id': ObjectId('5ebc6afb7fc0758414ad94cc'), 'HG00099': [0, 1], 'chr': '1', 'pos': 10001235, 'ref': 'TTTCG', 'alt': ['T']}\n",
      "{'_id': ObjectId('5ebc6afb7fc0758414ad94cd'), 'HG00100': [1, 1], 'chr': '1', 'pos': 10001235, 'ref': 'TTTCG', 'alt': ['T']}\n",
      "{'_id': ObjectId('5ebc6afb7fc0758414ad94ce'), 'HG00101': [0, 1], 'chr': '1', 'pos': 10001235, 'ref': 'TTTCG', 'alt': ['T']}\n",
      "{'_id': ObjectId('5ebc6afb7fc0758414ad94cf'), 'HG00102': [1, 1], 'chr': '1', 'pos': 10001235, 'ref': 'TTTCG', 'alt': ['T']}\n",
      "{'_id': ObjectId('5ebc6afb7fc0758414ad94d0'), 'HG00103': [0, 1], 'chr': '1', 'pos': 10001235, 'ref': 'TTTCG', 'alt': ['T']}\n",
      "{'_id': ObjectId('5ebc6afb7fc0758414ad94d1'), 'HG00105': [0, 1], 'chr': '1', 'pos': 10001235, 'ref': 'TTTCG', 'alt': ['T']}\n",
      "{'_id': ObjectId('5ebc6afb7fc0758414ad94d2'), 'HG00106': [1, 0], 'chr': '1', 'pos': 10001235, 'ref': 'TTTCG', 'alt': ['T']}\n",
      "{'_id': ObjectId('5ebc6afb7fc0758414ad94d3'), 'HG00107': [0, 1], 'chr': '1', 'pos': 10001235, 'ref': 'TTTCG', 'alt': ['T']}\n",
      "{'_id': ObjectId('5ebc6afb7fc0758414ad94d4'), 'HG00101': [1, 0], 'chr': '1', 'pos': 10001401, 'ref': 'C', 'alt': ['T']}\n",
      "{'_id': ObjectId('5ebc6afb7fc0758414ad94d5'), 'HG00107': [1, 0], 'chr': '1', 'pos': 10001401, 'ref': 'C', 'alt': ['T']}\n",
      "{'_id': ObjectId('5ebc6afb7fc0758414ad94d6'), 'HG00101': [0, 1], 'chr': '1', 'pos': 10001979, 'ref': 'T', 'alt': ['A']}\n",
      "{'_id': ObjectId('5ebc6afb7fc0758414ad94d7'), 'HG00096': [1, 0], 'chr': '1', 'pos': 10001980, 'ref': 'T', 'alt': ['A']}\n",
      "{'_id': ObjectId('5ebc6afb7fc0758414ad94d8'), 'HG00099': [0, 1], 'chr': '1', 'pos': 10001980, 'ref': 'T', 'alt': ['A']}\n",
      "{'_id': ObjectId('5ebc6afb7fc0758414ad94d9'), 'HG00100': [1, 1], 'chr': '1', 'pos': 10001980, 'ref': 'T', 'alt': ['A']}\n",
      "{'_id': ObjectId('5ebc6afb7fc0758414ad94da'), 'HG00101': [0, 1], 'chr': '1', 'pos': 10001980, 'ref': 'T', 'alt': ['A']}\n",
      "{'_id': ObjectId('5ebc6afb7fc0758414ad94db'), 'HG00102': [1, 1], 'chr': '1', 'pos': 10001980, 'ref': 'T', 'alt': ['A']}\n",
      "{'_id': ObjectId('5ebc6afb7fc0758414ad94dc'), 'HG00103': [0, 1], 'chr': '1', 'pos': 10001980, 'ref': 'T', 'alt': ['A']}\n",
      "{'_id': ObjectId('5ebc6afb7fc0758414ad94dd'), 'HG00105': [0, 1], 'chr': '1', 'pos': 10001980, 'ref': 'T', 'alt': ['A']}\n",
      "{'_id': ObjectId('5ebc6afb7fc0758414ad94de'), 'HG00106': [1, 0], 'chr': '1', 'pos': 10001980, 'ref': 'T', 'alt': ['A']}\n",
      "{'_id': ObjectId('5ebc6afb7fc0758414ad94df'), 'HG00107': [0, 1], 'chr': '1', 'pos': 10001980, 'ref': 'T', 'alt': ['A']}\n",
      "{'_id': ObjectId('5ebc6afb7fc0758414ad94e0'), 'HG00096': [1, 0], 'chr': '1', 'pos': 10002921, 'ref': 'T', 'alt': ['G']}\n"
     ]
    }
   ],
   "source": [
    "get_variants_in_range(mongo_variants, chrom='1', start=10_000_000, end=10_003_000)"
   ]
  },
  {
   "cell_type": "code",
   "execution_count": 27,
   "metadata": {},
   "outputs": [
    {
     "name": "stdout",
     "output_type": "stream",
     "text": [
      "{'_id_': {'v': 2, 'key': [('_id', 1)], 'ns': 'hospital.variants'}, 'chr_1': {'v': 2, 'key': [('chr', 1)], 'ns': 'hospital.variants'}, 'pos_1': {'v': 2, 'key': [('pos', 1)], 'ns': 'hospital.variants'}}\n"
     ]
    }
   ],
   "source": [
    "db.variants.create_index([(\"chr\", pymongo.ASCENDING)])\n",
    "db.variants.create_index([(\"pos\", pymongo.ASCENDING)])\n",
    "print(db.variants.index_information())"
   ]
  },
  {
   "cell_type": "code",
   "execution_count": 28,
   "metadata": {},
   "outputs": [
    {
     "name": "stdout",
     "output_type": "stream",
     "text": [
      "{'_id': ObjectId('5ebc6afb7fc0758414ad94c1'), 'HG00096': [1, 0], 'chr': '1', 'pos': 10000400, 'ref': 'T', 'alt': ['A']}\n",
      "{'_id': ObjectId('5ebc6afb7fc0758414ad94c2'), 'HG00099': [1, 1], 'chr': '1', 'pos': 10000400, 'ref': 'T', 'alt': ['A']}\n",
      "{'_id': ObjectId('5ebc6afb7fc0758414ad94c3'), 'HG00100': [1, 1], 'chr': '1', 'pos': 10000400, 'ref': 'T', 'alt': ['A']}\n",
      "{'_id': ObjectId('5ebc6afb7fc0758414ad94c4'), 'HG00101': [1, 1], 'chr': '1', 'pos': 10000400, 'ref': 'T', 'alt': ['A']}\n",
      "{'_id': ObjectId('5ebc6afb7fc0758414ad94c5'), 'HG00102': [1, 1], 'chr': '1', 'pos': 10000400, 'ref': 'T', 'alt': ['A']}\n",
      "{'_id': ObjectId('5ebc6afb7fc0758414ad94c6'), 'HG00103': [0, 1], 'chr': '1', 'pos': 10000400, 'ref': 'T', 'alt': ['A']}\n",
      "{'_id': ObjectId('5ebc6afb7fc0758414ad94c7'), 'HG00105': [1, 1], 'chr': '1', 'pos': 10000400, 'ref': 'T', 'alt': ['A']}\n",
      "{'_id': ObjectId('5ebc6afb7fc0758414ad94c8'), 'HG00106': [1, 1], 'chr': '1', 'pos': 10000400, 'ref': 'T', 'alt': ['A']}\n",
      "{'_id': ObjectId('5ebc6afb7fc0758414ad94c9'), 'HG00107': [1, 1], 'chr': '1', 'pos': 10000400, 'ref': 'T', 'alt': ['A']}\n",
      "{'_id': ObjectId('5ebc6afb7fc0758414ad94ca'), 'HG00099': [0, 1], 'chr': '1', 'pos': 10000804, 'ref': 'T', 'alt': ['C']}\n",
      "{'_id': ObjectId('5ebc6afb7fc0758414ad94cb'), 'HG00096': [1, 0], 'chr': '1', 'pos': 10001235, 'ref': 'TTTCG', 'alt': ['T']}\n",
      "{'_id': ObjectId('5ebc6afb7fc0758414ad94cc'), 'HG00099': [0, 1], 'chr': '1', 'pos': 10001235, 'ref': 'TTTCG', 'alt': ['T']}\n",
      "{'_id': ObjectId('5ebc6afb7fc0758414ad94cd'), 'HG00100': [1, 1], 'chr': '1', 'pos': 10001235, 'ref': 'TTTCG', 'alt': ['T']}\n",
      "{'_id': ObjectId('5ebc6afb7fc0758414ad94ce'), 'HG00101': [0, 1], 'chr': '1', 'pos': 10001235, 'ref': 'TTTCG', 'alt': ['T']}\n",
      "{'_id': ObjectId('5ebc6afb7fc0758414ad94cf'), 'HG00102': [1, 1], 'chr': '1', 'pos': 10001235, 'ref': 'TTTCG', 'alt': ['T']}\n",
      "{'_id': ObjectId('5ebc6afb7fc0758414ad94d0'), 'HG00103': [0, 1], 'chr': '1', 'pos': 10001235, 'ref': 'TTTCG', 'alt': ['T']}\n",
      "{'_id': ObjectId('5ebc6afb7fc0758414ad94d1'), 'HG00105': [0, 1], 'chr': '1', 'pos': 10001235, 'ref': 'TTTCG', 'alt': ['T']}\n",
      "{'_id': ObjectId('5ebc6afb7fc0758414ad94d2'), 'HG00106': [1, 0], 'chr': '1', 'pos': 10001235, 'ref': 'TTTCG', 'alt': ['T']}\n",
      "{'_id': ObjectId('5ebc6afb7fc0758414ad94d3'), 'HG00107': [0, 1], 'chr': '1', 'pos': 10001235, 'ref': 'TTTCG', 'alt': ['T']}\n",
      "{'_id': ObjectId('5ebc6afb7fc0758414ad94d4'), 'HG00101': [1, 0], 'chr': '1', 'pos': 10001401, 'ref': 'C', 'alt': ['T']}\n",
      "{'_id': ObjectId('5ebc6afb7fc0758414ad94d5'), 'HG00107': [1, 0], 'chr': '1', 'pos': 10001401, 'ref': 'C', 'alt': ['T']}\n",
      "{'_id': ObjectId('5ebc6afb7fc0758414ad94d6'), 'HG00101': [0, 1], 'chr': '1', 'pos': 10001979, 'ref': 'T', 'alt': ['A']}\n",
      "{'_id': ObjectId('5ebc6afb7fc0758414ad94d7'), 'HG00096': [1, 0], 'chr': '1', 'pos': 10001980, 'ref': 'T', 'alt': ['A']}\n",
      "{'_id': ObjectId('5ebc6afb7fc0758414ad94d8'), 'HG00099': [0, 1], 'chr': '1', 'pos': 10001980, 'ref': 'T', 'alt': ['A']}\n",
      "{'_id': ObjectId('5ebc6afb7fc0758414ad94d9'), 'HG00100': [1, 1], 'chr': '1', 'pos': 10001980, 'ref': 'T', 'alt': ['A']}\n",
      "{'_id': ObjectId('5ebc6afb7fc0758414ad94da'), 'HG00101': [0, 1], 'chr': '1', 'pos': 10001980, 'ref': 'T', 'alt': ['A']}\n",
      "{'_id': ObjectId('5ebc6afb7fc0758414ad94db'), 'HG00102': [1, 1], 'chr': '1', 'pos': 10001980, 'ref': 'T', 'alt': ['A']}\n",
      "{'_id': ObjectId('5ebc6afb7fc0758414ad94dc'), 'HG00103': [0, 1], 'chr': '1', 'pos': 10001980, 'ref': 'T', 'alt': ['A']}\n",
      "{'_id': ObjectId('5ebc6afb7fc0758414ad94dd'), 'HG00105': [0, 1], 'chr': '1', 'pos': 10001980, 'ref': 'T', 'alt': ['A']}\n",
      "{'_id': ObjectId('5ebc6afb7fc0758414ad94de'), 'HG00106': [1, 0], 'chr': '1', 'pos': 10001980, 'ref': 'T', 'alt': ['A']}\n",
      "{'_id': ObjectId('5ebc6afb7fc0758414ad94df'), 'HG00107': [0, 1], 'chr': '1', 'pos': 10001980, 'ref': 'T', 'alt': ['A']}\n",
      "{'_id': ObjectId('5ebc6afb7fc0758414ad94e0'), 'HG00096': [1, 0], 'chr': '1', 'pos': 10002921, 'ref': 'T', 'alt': ['G']}\n",
      "CPU times: user 3.35 ms, sys: 1.97 ms, total: 5.32 ms\n",
      "Wall time: 12.7 ms\n"
     ]
    }
   ],
   "source": [
    "%time var10m = get_variants_in_range(mongo_variants, chrom='1', start=10_000_000, end=10_003_000)"
   ]
  },
  {
   "cell_type": "code",
   "execution_count": null,
   "metadata": {},
   "outputs": [],
   "source": []
  }
 ],
 "metadata": {
  "kernelspec": {
   "display_name": "Python 3",
   "language": "python",
   "name": "python3"
  },
  "language_info": {
   "codemirror_mode": {
    "name": "ipython",
    "version": 3
   },
   "file_extension": ".py",
   "mimetype": "text/x-python",
   "name": "python",
   "nbconvert_exporter": "python",
   "pygments_lexer": "ipython3",
   "version": "3.7.3"
  }
 },
 "nbformat": 4,
 "nbformat_minor": 4
}
